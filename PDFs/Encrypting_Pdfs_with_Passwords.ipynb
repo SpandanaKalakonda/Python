{
  "nbformat": 4,
  "nbformat_minor": 0,
  "metadata": {
    "colab": {
      "provenance": []
    },
    "kernelspec": {
      "name": "python3",
      "display_name": "Python 3"
    },
    "language_info": {
      "name": "python"
    }
  },
  "cells": [
    {
      "cell_type": "code",
      "execution_count": null,
      "metadata": {
        "colab": {
          "base_uri": "https://localhost:8080/"
        },
        "id": "hgkA502brmJz",
        "outputId": "a5d563a6-c8b3-4ff6-89b4-eba172f1f332"
      },
      "outputs": [
        {
          "output_type": "stream",
          "name": "stdout",
          "text": [
            "Requirement already satisfied: pypdf in /usr/local/lib/python3.10/dist-packages (4.2.0)\n",
            "Requirement already satisfied: typing_extensions>=4.0 in /usr/local/lib/python3.10/dist-packages (from pypdf) (4.11.0)\n"
          ]
        }
      ],
      "source": [
        "#Install the library PyPDF to work with PDF's\n",
        "!pip install pypdf"
      ]
    },
    {
      "cell_type": "code",
      "source": [
        "#import the library\n",
        "from pypdf import PdfReader, PdfWriter"
      ],
      "metadata": {
        "id": "2y7yKF63rv5d"
      },
      "execution_count": null,
      "outputs": []
    },
    {
      "cell_type": "code",
      "source": [
        "#Read the PDF file\n",
        "pdf_file=PdfReader(\"/content/file-sample_150kB.pdf\")"
      ],
      "metadata": {
        "id": "Gdd9emX9r-kw"
      },
      "execution_count": null,
      "outputs": []
    },
    {
      "cell_type": "code",
      "source": [
        "#Create an object for PdfWriter to write the output\n",
        "output_pdf=PdfWriter()"
      ],
      "metadata": {
        "id": "RgaP1X3jtzXG"
      },
      "execution_count": null,
      "outputs": []
    },
    {
      "cell_type": "code",
      "source": [
        "#Read the file contents of input file and add to the writer object\n",
        "for i in range(pdf_file.get_num_pages()):\n",
        "  page_content=pdf_file.get_page(i)\n",
        "  output_pdf.add_page(page_content)"
      ],
      "metadata": {
        "id": "T7czghUruICR"
      },
      "execution_count": null,
      "outputs": []
    },
    {
      "cell_type": "code",
      "source": [
        "#Encrpyt the pdf with password\n",
        "password=\"12345\"\n",
        "output_pdf.encrypt(password)"
      ],
      "metadata": {
        "id": "DaOwZ9aEvNZn"
      },
      "execution_count": null,
      "outputs": []
    },
    {
      "cell_type": "code",
      "source": [
        "with open(\"/content/Encrypted.pdf\",\"wb\") as f:\n",
        "  output_pdf.write(f)"
      ],
      "metadata": {
        "id": "IrW4YGW7wEN4"
      },
      "execution_count": null,
      "outputs": []
    },
    {
      "cell_type": "code",
      "source": [],
      "metadata": {
        "id": "jZw4CL7UwU6P"
      },
      "execution_count": null,
      "outputs": []
    }
  ]
}